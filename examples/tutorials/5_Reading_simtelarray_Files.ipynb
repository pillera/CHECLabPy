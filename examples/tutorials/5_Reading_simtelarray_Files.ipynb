{
 "cells": [
  {
   "cell_type": "markdown",
   "metadata": {},
   "source": [
    "# Reading sim_telarray Files\n",
    "\n",
    "It is also possible to read sim_telarray files with CHECLabPy. This functionality is provided through the `SimtelEventSource` class from ctapipe.\n",
    "\n",
    "## Setup\n",
    "\n",
    "Check the ctapipe is installed:"
   ]
  },
  {
   "cell_type": "code",
   "execution_count": null,
   "metadata": {},
   "outputs": [],
   "source": [
    "import ctapipe\n",
    "import eventio"
   ]
  },
  {
   "cell_type": "markdown",
   "metadata": {},
   "source": [
    "## Files\n",
    "\n",
    "For this tutorial, a simtelarray file is required. CHECLabPy assumes the simtel file contains only a single telescope, containing a CHEC camera."
   ]
  },
  {
   "cell_type": "code",
   "execution_count": null,
   "metadata": {},
   "outputs": [],
   "source": [
    "simtel_path = \"/Users/Jason/Downloads/Run00001.simtel.gz\""
   ]
  },
  {
   "cell_type": "markdown",
   "metadata": {},
   "source": [
    "## Extracting DL1\n",
    "\n",
    "DL1 information can be extracted in the same way as from TIO waveforms with extract_dl1.py:"
   ]
  },
  {
   "cell_type": "code",
   "execution_count": null,
   "metadata": {},
   "outputs": [],
   "source": [
    "!extract_dl1 -h"
   ]
  },
  {
   "cell_type": "code",
   "execution_count": null,
   "metadata": {},
   "outputs": [],
   "source": [
    "!extract_dl1 -f $simtel_path"
   ]
  },
  {
   "cell_type": "markdown",
   "metadata": {},
   "source": [
    "## DL1 File Contents\n",
    "\n",
    "The DL1 file produced from simtel waveforms contains all the same information as a DL1 file produced from TIO waveforms (plus the true photoelectron number in each pixel, \"mc_true\"). The same `DL1Reader` class can be used to read the file:"
   ]
  },
  {
   "cell_type": "code",
   "execution_count": null,
   "metadata": {},
   "outputs": [],
   "source": [
    "from CHECLabPy.core.io import DL1Reader\n",
    "dl1_path = simtel_path.replace(\".simtel.gz\", \"_dl1.h5\")\n",
    "reader = DL1Reader(dl1_path)\n",
    "reader.load_entire_table()"
   ]
  },
  {
   "cell_type": "markdown",
   "metadata": {},
   "source": [
    "Additionally, inside a simtel-DL1 file one can find the MC, pointing, and MC Header information:"
   ]
  },
  {
   "cell_type": "code",
   "execution_count": null,
   "metadata": {},
   "outputs": [],
   "source": [
    "reader.read(\"mc\")"
   ]
  },
  {
   "cell_type": "code",
   "execution_count": null,
   "metadata": {},
   "outputs": [],
   "source": [
    "reader.read(\"pointing\")"
   ]
  },
  {
   "cell_type": "code",
   "execution_count": null,
   "metadata": {},
   "outputs": [],
   "source": [
    "reader.get_metadata(name='mcheader')"
   ]
  },
  {
   "cell_type": "markdown",
   "metadata": {},
   "source": [
    "## Reading simtel Waveforms\n",
    "\n",
    "If you wish to have a look at the waveforms themselves, this can be achieved with the `SimtelReader` class. This class behaves very similarly to `TIOReader`:"
   ]
  },
  {
   "cell_type": "code",
   "execution_count": null,
   "metadata": {},
   "outputs": [],
   "source": [
    "%matplotlib inline"
   ]
  },
  {
   "cell_type": "code",
   "execution_count": null,
   "metadata": {},
   "outputs": [],
   "source": [
    "from CHECLabPy.core.io import SimtelReader\n",
    "from matplotlib import pyplot as plt\n",
    "reader = SimtelReader(simtel_path)\n",
    "wf = reader[10]\n",
    "print(wf.shape)\n",
    "plt.plot(wf.T)\n",
    "plt.show()"
   ]
  },
  {
   "cell_type": "markdown",
   "metadata": {},
   "source": [
    "## Plotting Camera Images\n",
    "\n",
    "Camera images can be plotted from extract_dl1_simtel-produced DL1 files in the same way as shown for other DL1 files:"
   ]
  },
  {
   "cell_type": "code",
   "execution_count": null,
   "metadata": {},
   "outputs": [],
   "source": [
    "# Plotting a camera image of charge extracted per pixel for the nth event\n",
    "from matplotlib import pyplot as plt\n",
    "from CHECLabPy.core.io import DL1Reader\n",
    "from CHECLabPy.plotting.camera import CameraImage\n",
    "\n",
    "reader = DL1Reader(dl1_path)\n",
    "\n",
    "charge = reader[100]['charge_cc'].values\n",
    "\n",
    "camera = CameraImage.from_mapping(reader.mapping)\n",
    "camera.image = charge\n",
    "camera.add_colorbar(label=\"Charge\")\n",
    "camera.annotate_on_telescope_up()\n",
    "\n",
    "plt.show()"
   ]
  }
 ],
 "metadata": {
  "kernelspec": {
   "display_name": "Python 3",
   "language": "python",
   "name": "python3"
  },
  "language_info": {
   "codemirror_mode": {
    "name": "ipython",
    "version": 3
   },
   "file_extension": ".py",
   "mimetype": "text/x-python",
   "name": "python",
   "nbconvert_exporter": "python",
   "pygments_lexer": "ipython3",
   "version": "3.6.5"
  }
 },
 "nbformat": 4,
 "nbformat_minor": 2
}
