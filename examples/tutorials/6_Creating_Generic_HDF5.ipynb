{
 "cells": [
  {
   "cell_type": "markdown",
   "metadata": {},
   "source": [
    "# Creating Generic HDF5 Files\n",
    "\n",
    "The DL1 files shown in the previous tutorials are created and read by subclasses to the `HDF5Writer` and `HDF5Reader` classes, respectively. These classes can be used for more custom purposes, such as the storage of some data in a tabular format. I personally find this very useful, and many of my personal scripts store data into a HDF5 file as a intermediary step (using `HDF5Writer`), while a second script will create the plot from this file (using `HDF5Reader`)."
   ]
  },
  {
   "cell_type": "markdown",
   "metadata": {},
   "source": [
    "## Reminder about HDF5 and DataFrames\n",
    "\n",
    "The .h5 extension is used by HDF5 files https://support.hdfgroup.org/HDF5/whatishdf5.html.\n",
    "\n",
    "Inside the HDF5 files are HDFStores, which are the format pandas DataFrames are stored inside HDF5 files. You can read about HDFStores here: https://pandas.pydata.org/pandas-docs/stable/io.html#hdf5-pytables.\n",
    "\n",
    "Pandas DataFrames are a tabular data structure widely used by data scientists for Python analysis: https://pandas.pydata.org/pandas-docs/stable/dsintro.html#dataframe. They allow easy querying, sorting, grouping, and processing of data."
   ]
  },
  {
   "cell_type": "markdown",
   "metadata": {},
   "source": [
    "## HDF5Writer Example"
   ]
  },
  {
   "cell_type": "markdown",
   "metadata": {},
   "source": [
    "The most straight-forward way to write to a HDF5 file is via the `write` method:"
   ]
  },
  {
   "cell_type": "code",
   "execution_count": null,
   "metadata": {},
   "outputs": [],
   "source": [
    "import pandas as pd\n",
    "import numpy as np\n",
    "from CHECLabPy.core.io import HDF5Writer\n",
    "\n",
    "x = np.arange(100)\n",
    "\n",
    "y2 = x**2\n",
    "df2 = pd.DataFrame(dict(\n",
    "    x=x,\n",
    "    y=y2,\n",
    "))\n",
    "\n",
    "y5 = x**5\n",
    "df5 = pd.DataFrame(dict(\n",
    "    x=x,\n",
    "    y=y5,\n",
    "))\n",
    "\n",
    "metadata_2 = dict(\n",
    "    size=x.size,\n",
    "    power=2,\n",
    ")\n",
    "metadata_5 = dict(\n",
    "    size=x.size,\n",
    "    power=5,\n",
    ")\n",
    "\n",
    "with HDF5Writer(\"refdata/data1.h5\") as writer:\n",
    "    writer.write(data_2=df2, data_5=df5)\n",
    "    writer.add_metadata(key='data_2', **metadata_2)\n",
    "    writer.add_metadata(key='data_5', **metadata_5)\n",
    "    # Add a second metadata field for the data_5 table\n",
    "    writer.add_metadata(key='data_5', name='test', **metadata_5)"
   ]
  },
  {
   "cell_type": "markdown",
   "metadata": {},
   "source": [
    "However, if you are instead iterating through a dataset, and cannot hold the entire result in memory for storage, you can instead use the `append` method. This is used in the extract_dl1 script."
   ]
  },
  {
   "cell_type": "code",
   "execution_count": null,
   "metadata": {},
   "outputs": [],
   "source": [
    "import pandas as pd\n",
    "import numpy as np\n",
    "from CHECLabPy.core.io import HDF5Writer\n",
    "\n",
    "metadata = dict(\n",
    "    size=100*3,\n",
    ")\n",
    "\n",
    "with HDF5Writer(\"refdata/data2.h5\") as writer:\n",
    "    for x in range(100):\n",
    "        power = np.array([2, 4, 5])\n",
    "        y = x**power\n",
    "        df = pd.DataFrame(dict(\n",
    "            x=x,\n",
    "            y=y,\n",
    "            power=power,\n",
    "        ))\n",
    "        writer.append(df, key='data')\n",
    "    writer.add_metadata(key='data', **metadata)"
   ]
  },
  {
   "cell_type": "markdown",
   "metadata": {},
   "source": [
    "If you are processing data from a TIO or DL1 file, you may wish to store the pixel mapping inside the HDF5 file with your results, which could be useful for plotting the results later:"
   ]
  },
  {
   "cell_type": "code",
   "execution_count": null,
   "metadata": {},
   "outputs": [],
   "source": [
    "# Plotting a camera image of charge extracted per pixel for the nth event\n",
    "import pandas as pd\n",
    "from CHECLabPy.core.io import HDF5Writer\n",
    "from CHECLabPy.core.io import DL1Reader\n",
    "\n",
    "dl1_path = \"refdata/Run17473_dl1.h5\"\n",
    "reader = DL1Reader(dl1_path)\n",
    "\n",
    "pixel, charge = reader.select_columns(['pixel', 'charge_cc'])\n",
    "\n",
    "df = pd.DataFrame(dict(\n",
    "    pixel=pixel,\n",
    "    charge=charge,\n",
    "))\n",
    "\n",
    "with HDF5Writer(\"refdata/data3.h5\") as writer:\n",
    "    writer.write(data=df)\n",
    "    writer.add_mapping(reader.mapping)"
   ]
  },
  {
   "cell_type": "markdown",
   "metadata": {},
   "source": [
    "## HDF5Reader Example\n",
    "\n",
    "It is possible to see what contents of a file are accessible with the `dataframe_keys` and `metadata_keys` attributes:"
   ]
  },
  {
   "cell_type": "code",
   "execution_count": null,
   "metadata": {},
   "outputs": [],
   "source": [
    "from CHECLabPy.core.io import HDF5Reader\n",
    "\n",
    "with HDF5Reader(\"refdata/data1.h5\") as reader:\n",
    "    print(reader.dataframe_keys)\n",
    "    print(reader.metadata_keys)"
   ]
  },
  {
   "cell_type": "markdown",
   "metadata": {},
   "source": [
    "Reading the data back from the file is achieved as follows:"
   ]
  },
  {
   "cell_type": "code",
   "execution_count": null,
   "metadata": {},
   "outputs": [],
   "source": [
    "from CHECLabPy.core.io import HDF5Reader\n",
    "\n",
    "with HDF5Reader(\"refdata/data1.h5\") as reader:\n",
    "    df_2 = reader.read(\"data_2\")\n",
    "    df_5 = reader.read(\"data_5\")\n",
    "    metadata_2 = reader.get_metadata(key='data_2')\n",
    "    metadata_5 = reader.get_metadata(key='data_5', name='test')\n",
    "    \n",
    "print(df_2)\n",
    "print(metadata_2)"
   ]
  },
  {
   "cell_type": "code",
   "execution_count": null,
   "metadata": {},
   "outputs": [],
   "source": [
    "from CHECLabPy.core.io import HDF5Reader\n",
    "\n",
    "with HDF5Reader(\"refdata/data2.h5\") as reader:\n",
    "    df = reader.read(\"data\")\n",
    "    metadata = reader.get_metadata(key='data')\n",
    "    \n",
    "print(df)\n",
    "print(metadata)"
   ]
  },
  {
   "cell_type": "code",
   "execution_count": null,
   "metadata": {},
   "outputs": [],
   "source": [
    "from CHECLabPy.core.io import HDF5Reader\n",
    "\n",
    "with HDF5Reader(\"refdata/data3.h5\") as reader:\n",
    "    df = reader.read(\"data\")\n",
    "    mapping = reader.get_mapping()\n",
    "    \n",
    "print(df)\n",
    "print(mapping)"
   ]
  }
 ],
 "metadata": {
  "kernelspec": {
   "display_name": "Python 3",
   "language": "python",
   "name": "python3"
  },
  "language_info": {
   "codemirror_mode": {
    "name": "ipython",
    "version": 3
   },
   "file_extension": ".py",
   "mimetype": "text/x-python",
   "name": "python",
   "nbconvert_exporter": "python",
   "pygments_lexer": "ipython3",
   "version": "3.6.5"
  }
 },
 "nbformat": 4,
 "nbformat_minor": 2
}
