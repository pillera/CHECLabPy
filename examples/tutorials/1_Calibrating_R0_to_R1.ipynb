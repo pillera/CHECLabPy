{
 "cells": [
  {
   "cell_type": "markdown",
   "metadata": {},
   "source": [
    "# Calibrating R0 Files to R1\n",
    "\n",
    "This notebook outlines the process of calibrating R0 files to R1 files, using the TargetCalib library. If you only had access to the R0 files, and not the \\_ped.tcal file (Pedestal file), R1 (calibrated waveforms) or DL1 (reduced files), then this is the point you would have to start at.\n",
    "\n",
    "For this tutorial you need TargetDriver, TargetIO and TargetCalib installed.\n",
    "\n",
    "## Setup\n",
    "\n",
    "Prepare your machine and environment by following the instructions at: https://forge.in2p3.fr/projects/gct/wiki/Installing_CHEC_Software\n",
    "\n",
    "If you do not wish to install the TARGET libraries as you will only be reading DL1 files, you can skip this tutorial.\n",
    "\n",
    "To set up TC_CONFIG_PATH for the Transfer Functions, download svn.in2p3.fr/cta/Sandbox/justuszorn/CHECDevelopment/CHECS/Operation to a directory, and `export TC_CONFIG_PATH=...`.\n",
    "\n",
    "Check the installation was successful by running these lines:"
   ]
  },
  {
   "cell_type": "code",
   "execution_count": null,
   "metadata": {},
   "outputs": [],
   "source": [
    "import target_driver\n",
    "import target_io\n",
    "import target_calib\n",
    "from os import environ\n",
    "assert 'TC_CONFIG_PATH' in environ"
   ]
  },
  {
   "cell_type": "markdown",
   "metadata": {},
   "source": [
    "## Files\n",
    "\n",
    "To run this tutorial you must download a reference dataset (using the username and password Rich has sent around in emails/Slack). This dataset consists of a raw (R0) data files for a pedestal run and a ~50 p.e. illumination run."
   ]
  },
  {
   "cell_type": "code",
   "execution_count": null,
   "metadata": {},
   "outputs": [],
   "source": [
    "username = '***'\n",
    "pw = '***'\n",
    "ped_r0_url = 'https://www.mpi-hd.mpg.de/personalhomes/white/checs/data/d0000_ReferenceData/Run17438_r0.tio'\n",
    "ped_url = 'https://www.mpi-hd.mpg.de/personalhomes/white/checs/data/d0000_ReferenceData/Run17438_ped.tcal'\n",
    "r0_url = 'https://www.mpi-hd.mpg.de/personalhomes/white/checs/data/d0000_ReferenceData/Run17473_r0.tio'"
   ]
  },
  {
   "cell_type": "code",
   "execution_count": null,
   "metadata": {},
   "outputs": [],
   "source": [
    "!mkdir refdata\n",
    "#!wget --user $username --password $pw -P refdata $ped_r0_url  # LARGE FILE - only download for generating pedestal file\n",
    "!wget --user $username --password $pw -P refdata $ped_url\n",
    "!wget --user $username --password $pw -P refdata $r0_url"
   ]
  },
  {
   "cell_type": "code",
   "execution_count": null,
   "metadata": {},
   "outputs": [],
   "source": [
    "ped_r0_path = \"refdata/Run17438_r0.tio\"\n",
    "ped_path = \"refdata/Run17438_ped.tcal\"\n",
    "r0_path = \"refdata/Run17473_r0.tio\""
   ]
  },
  {
   "cell_type": "markdown",
   "metadata": {},
   "source": [
    "## Pedestal Generation\n",
    "\n",
    "This executable produces the pedestal file (_ped.tcal) from an R0 run."
   ]
  },
  {
   "cell_type": "code",
   "execution_count": null,
   "metadata": {},
   "outputs": [],
   "source": [
    "!generate_ped -h"
   ]
  },
  {
   "cell_type": "code",
   "execution_count": null,
   "metadata": {},
   "outputs": [],
   "source": [
    "!generate_ped -i $ped_r0_path"
   ]
  },
  {
   "cell_type": "markdown",
   "metadata": {},
   "source": [
    "## Applying Calibration\n",
    "\n",
    "This executable applies the calibration files (pedestal and transfer function) to an R0 file to produce a R1 file containing calibrated waveforms. The \"-x\" argument instructs the executable to find the correct TFs for each module by looking at the module serial numbers in the header of the R0 file, and find the appropriate TF files inside $TC_CONFIG_PATH"
   ]
  },
  {
   "cell_type": "code",
   "execution_count": null,
   "metadata": {},
   "outputs": [],
   "source": [
    "!apply_calibration -h"
   ]
  },
  {
   "cell_type": "code",
   "execution_count": null,
   "metadata": {},
   "outputs": [],
   "source": [
    "!apply_calibration -i $r0_path -p $ped_path -x"
   ]
  },
  {
   "cell_type": "markdown",
   "metadata": {},
   "source": [
    "## Next Step\n",
    "\n",
    "You now have an \"_r1.tio\" file containing the R1-calibrated waveforms. These waveforms have all the calibration required for data read out from a TARGET module, and can now be analysed with common signal processing techniques. The next step in the CHECLabPy pipeline is to reduce the waveforms using the extract_dl1.py script, detailed in the \"2_Reducing_R1_to_DL1.ipynb\" tutorial."
   ]
  }
 ],
 "metadata": {
  "kernelspec": {
   "display_name": "Python 3",
   "language": "python",
   "name": "python3"
  },
  "language_info": {
   "codemirror_mode": {
    "name": "ipython",
    "version": 3
   },
   "file_extension": ".py",
   "mimetype": "text/x-python",
   "name": "python",
   "nbconvert_exporter": "python",
   "pygments_lexer": "ipython3",
   "version": "3.6.5"
  }
 },
 "nbformat": 4,
 "nbformat_minor": 2
}
